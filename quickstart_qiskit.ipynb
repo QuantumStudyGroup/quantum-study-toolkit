{
 "cells": [
  {
   "cell_type": "markdown",
   "id": "cac749c6-05a1-44f1-86ae-729f04de67b5",
   "metadata": {},
   "source": [
    "# Below is what is needed to import qiskit"
   ]
  },
  {
   "cell_type": "code",
   "execution_count": null,
   "id": "3712d8ad-ec08-4211-960a-1e8669fa6791",
   "metadata": {},
   "outputs": [],
   "source": [
    "# Importing standard Qiskit libraries\n",
    "from qiskit import QuantumCircuit  #Importing the QuantumCircuit function from Qiskit. We will use this to create our quantum circuits!\n",
    "\n",
    "# We will use these functions to run our circuit and visualize its final state\n",
    "from qiskit import Aer, execute \n",
    "from qiskit.visualization import *\n",
    "\n",
    "import warnings  # We are using this library to suppress some warning messages\n",
    "warnings.filterwarnings(\"ignore\")\n",
    "\n",
    "print(\"Libraries imported successfully!\")"
   ]
  },
  {
   "cell_type": "code",
   "execution_count": null,
   "id": "1e1fff38-43ca-43eb-b4e1-c6591f34a3b3",
   "metadata": {},
   "outputs": [],
   "source": [
    "qc = QuantumCircuit(1)"
   ]
  },
  {
   "cell_type": "code",
   "execution_count": null,
   "id": "b641721a-ccee-4056-8305-7db511095c44",
   "metadata": {},
   "outputs": [],
   "source": [
    "qc.x(0)\n",
    "qc.h(0)\n",
    "qc.draw()"
   ]
  },
  {
   "cell_type": "code",
   "execution_count": null,
   "id": "ab6d08fe-f664-46ce-b181-0fba0635bbbe",
   "metadata": {},
   "outputs": [],
   "source": [
    "# Note: This can take about 30 sec to render depending on how fast your system is.\n",
    "visualize_transition(qc, trace=False)"
   ]
  }
 ],
 "metadata": {
  "kernelspec": {
   "display_name": "Python 3 (ipykernel)",
   "language": "python",
   "name": "python3"
  },
  "language_info": {
   "codemirror_mode": {
    "name": "ipython",
    "version": 3
   },
   "file_extension": ".py",
   "mimetype": "text/x-python",
   "name": "python",
   "nbconvert_exporter": "python",
   "pygments_lexer": "ipython3",
   "version": "3.10.6"
  }
 },
 "nbformat": 4,
 "nbformat_minor": 5
}
